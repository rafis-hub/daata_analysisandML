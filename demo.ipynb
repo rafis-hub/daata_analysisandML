{
 "cells": [
  {
   "cell_type": "code",
   "execution_count": 3,
   "metadata": {},
   "outputs": [
    {
     "name": "stdout",
     "output_type": "stream",
     "text": [
      "Saved 100315 random rows to US_Accidents_100K.csv\n"
     ]
    }
   ],
   "source": [
    "import pandas as pd\n",
    "\n",
    "file_path = \"US_Accidents_March23.csv\"  # Adjust filename if needed\n",
    "output_file = \"US_Accidents_100K.csv\"\n",
    "\n",
    "# Define chunk size and sample fraction\n",
    "chunk_size = 50000  # Read in chunks\n",
    "sample_fraction = 100000 / 7700000  # 100K out of 7.7M rows\n",
    "\n",
    "# Initialize an empty list to store sampled data\n",
    "sampled_chunks = []\n",
    "\n",
    "# Read in chunks and sample\n",
    "for chunk in pd.read_csv(file_path, chunksize=chunk_size):\n",
    "    sampled_chunk = chunk.sample(frac=sample_fraction, random_state=42)  # Randomly sample from each chunk\n",
    "    sampled_chunks.append(sampled_chunk)  # Store the sample\n",
    "\n",
    "# Combine all sampled chunks\n",
    "df_sample = pd.concat(sampled_chunks)\n",
    "\n",
    "# Save to CSV\n",
    "df_sample.to_csv(output_file, index=False)\n",
    "\n",
    "print(f\"Saved {len(df_sample)} random rows to {output_file}\")\n"
   ]
  }
 ],
 "metadata": {
  "kernelspec": {
   "display_name": "venv",
   "language": "python",
   "name": "python3"
  },
  "language_info": {
   "codemirror_mode": {
    "name": "ipython",
    "version": 3
   },
   "file_extension": ".py",
   "mimetype": "text/x-python",
   "name": "python",
   "nbconvert_exporter": "python",
   "pygments_lexer": "ipython3",
   "version": "3.12.5"
  }
 },
 "nbformat": 4,
 "nbformat_minor": 2
}
