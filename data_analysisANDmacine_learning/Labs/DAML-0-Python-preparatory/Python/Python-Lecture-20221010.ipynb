{
 "cells": [
  {
   "cell_type": "code",
   "execution_count": 1,
   "id": "e354f328",
   "metadata": {
    "scrolled": true
   },
   "outputs": [
    {
     "name": "stdout",
     "output_type": "stream",
     "text": [
      "Requirement already satisfied: pandas in /Users/andrewt/miniforge3/envs/vesai/lib/python3.9/site-packages (1.4.1)\n",
      "Requirement already satisfied: python-dateutil>=2.8.1 in /Users/andrewt/miniforge3/envs/vesai/lib/python3.9/site-packages (from pandas) (2.8.2)\n",
      "Requirement already satisfied: pytz>=2020.1 in /Users/andrewt/miniforge3/envs/vesai/lib/python3.9/site-packages (from pandas) (2021.3)\n",
      "Requirement already satisfied: numpy>=1.20.0 in /Users/andrewt/miniforge3/envs/vesai/lib/python3.9/site-packages (from pandas) (1.22.0)\n",
      "Requirement already satisfied: six>=1.5 in /Users/andrewt/miniforge3/envs/vesai/lib/python3.9/site-packages (from python-dateutil>=2.8.1->pandas) (1.16.0)\n"
     ]
    }
   ],
   "source": [
    "!pip install pandas # use ! to write a unix command"
   ]
  },
  {
   "cell_type": "code",
   "execution_count": 2,
   "id": "393a3c70",
   "metadata": {},
   "outputs": [],
   "source": [
    "import math # import a module\n",
    "import numpy as np # import a module witha different name\n",
    "from math import floor # import specific function\n",
    "# use math floor or // to \"round down\"\n",
    "\n",
    "from matplotlib import pyplot as plt"
   ]
  },
  {
   "cell_type": "code",
   "execution_count": null,
   "id": "753fcb01",
   "metadata": {},
   "outputs": [],
   "source": []
  },
  {
   "cell_type": "markdown",
   "id": "ea3d3ddb",
   "metadata": {},
   "source": [
    "## Day 1 Part 1"
   ]
  },
  {
   "cell_type": "code",
   "execution_count": 3,
   "id": "76531d1c",
   "metadata": {},
   "outputs": [],
   "source": [
    "def calculate_fuel(mass):\n",
    "    return mass // 3 - 2"
   ]
  },
  {
   "cell_type": "code",
   "execution_count": 4,
   "id": "9bb7bad2",
   "metadata": {},
   "outputs": [],
   "source": [
    "inpt = open('input.txt', 'r').readlines()"
   ]
  },
  {
   "cell_type": "code",
   "execution_count": 5,
   "id": "e58205dc",
   "metadata": {},
   "outputs": [],
   "source": [
    "tmp = list()\n",
    "for val in inpt:\n",
    "    if int(val) < 0:\n",
    "        tmp.append(int(val))"
   ]
  },
  {
   "cell_type": "code",
   "execution_count": 6,
   "id": "f30d0b56",
   "metadata": {},
   "outputs": [],
   "source": [
    "inpt = [int(val) for val in inpt]"
   ]
  },
  {
   "cell_type": "code",
   "execution_count": 7,
   "id": "f416ad2b",
   "metadata": {},
   "outputs": [
    {
     "data": {
      "text/plain": [
       "3412531"
      ]
     },
     "execution_count": 7,
     "metadata": {},
     "output_type": "execute_result"
    }
   ],
   "source": [
    "np.sum([calculate_fuel(mass) for mass in inpt])"
   ]
  },
  {
   "cell_type": "code",
   "execution_count": null,
   "id": "441a0887",
   "metadata": {},
   "outputs": [],
   "source": []
  },
  {
   "cell_type": "markdown",
   "id": "019e628f",
   "metadata": {},
   "source": [
    "### Benchmark the runtime of a method in jupyter (%%time vs. %%timeit)"
   ]
  },
  {
   "cell_type": "code",
   "execution_count": 8,
   "id": "0953c297",
   "metadata": {},
   "outputs": [
    {
     "name": "stdout",
     "output_type": "stream",
     "text": [
      "7.23 µs ± 25.8 ns per loop (mean ± std. dev. of 7 runs, 100000 loops each)\n"
     ]
    }
   ],
   "source": [
    "%%timeit\n",
    "sum([calculate_fuel(mass) for mass in inpt])"
   ]
  },
  {
   "cell_type": "code",
   "execution_count": null,
   "id": "1dda435e",
   "metadata": {},
   "outputs": [],
   "source": []
  },
  {
   "cell_type": "markdown",
   "id": "bd84a870",
   "metadata": {},
   "source": [
    "### A Minor Introduction to Classes..."
   ]
  },
  {
   "cell_type": "code",
   "execution_count": 9,
   "id": "238ff896",
   "metadata": {},
   "outputs": [],
   "source": [
    "class Config:\n",
    "    def __init__(self, source='./home', dest='./Documents', layers=2, lr=.003):\n",
    "        \"\"\"\n",
    "        init is run when a new object is created\n",
    "        \"\"\"\n",
    "        self.source =source\n",
    "        self.dest=dest\n",
    "        self.layers=layers\n",
    "        self.lr = lr"
   ]
  },
  {
   "cell_type": "code",
   "execution_count": null,
   "id": "e02ad059",
   "metadata": {},
   "outputs": [],
   "source": []
  },
  {
   "cell_type": "markdown",
   "id": "00a71f9e",
   "metadata": {},
   "source": [
    "### Introducing ```dictionaries```...\n",
    "#### How are they useful within functions? (hint: ```**kwargs```)"
   ]
  },
  {
   "cell_type": "code",
   "execution_count": 10,
   "id": "641bf82f",
   "metadata": {},
   "outputs": [],
   "source": [
    "dict_ = {\n",
    "    2:'gsdrh',\n",
    "    3:'dhhjdh',\n",
    "    'layers':2000\n",
    "}"
   ]
  },
  {
   "cell_type": "code",
   "execution_count": 11,
   "id": "73082731",
   "metadata": {},
   "outputs": [
    {
     "data": {
      "text/plain": [
       "'gsdrh'"
      ]
     },
     "execution_count": 11,
     "metadata": {},
     "output_type": "execute_result"
    }
   ],
   "source": [
    "dict_[2]"
   ]
  },
  {
   "cell_type": "code",
   "execution_count": null,
   "id": "17ff5908",
   "metadata": {},
   "outputs": [],
   "source": []
  },
  {
   "cell_type": "markdown",
   "id": "3579dcc9",
   "metadata": {},
   "source": [
    "### Inheritance..."
   ]
  },
  {
   "cell_type": "code",
   "execution_count": 12,
   "id": "402195ea",
   "metadata": {},
   "outputs": [],
   "source": [
    "class ConfigSpecific(Config):\n",
    "    def __init__(self, inputs=10, outputs=1, **kwargs):\n",
    "        super().__init__(**kwargs)\n",
    "        self.inputs=inputs\n",
    "        self.outputs=outputs"
   ]
  },
  {
   "cell_type": "code",
   "execution_count": 13,
   "id": "cbe9403e",
   "metadata": {},
   "outputs": [],
   "source": [
    "conf_spec = ConfigSpecific(layers=2000)"
   ]
  },
  {
   "cell_type": "code",
   "execution_count": 14,
   "id": "6b3c9d1b",
   "metadata": {},
   "outputs": [
    {
     "data": {
      "text/plain": [
       "(2000, 10)"
      ]
     },
     "execution_count": 14,
     "metadata": {},
     "output_type": "execute_result"
    }
   ],
   "source": [
    "conf_spec.layers, conf_spec.inputs"
   ]
  },
  {
   "cell_type": "code",
   "execution_count": null,
   "id": "fb54a1ce",
   "metadata": {},
   "outputs": [],
   "source": []
  },
  {
   "cell_type": "markdown",
   "id": "83020ce9",
   "metadata": {},
   "source": [
    "### Solution of Day 1, Part 1 as a Class..."
   ]
  },
  {
   "cell_type": "code",
   "execution_count": 15,
   "id": "4162b3d7",
   "metadata": {},
   "outputs": [],
   "source": [
    "class prob:\n",
    "    def __init__(self, inp_name='input'):\n",
    "        \"\"\"\n",
    "        init is run when a new object is created\n",
    "        \"\"\"\n",
    "        self.inp_name = inp_name\n",
    "        # self.inp = [int(var) for var in open(inp_name).readlines()]\n",
    "        # pass\n",
    "    \n",
    "    def calculate_fuel(self, mass):\n",
    "        return mass//3 - 2\n",
    "\n",
    "    def read_inp(self):\n",
    "        self.inp = [int(var) for var in open(self.inp_name).readlines()]\n",
    "    \n",
    "    def solve(self):\n",
    "        \"\"\"\n",
    "        Solve part1 day 1\n",
    "        \"\"\"\n",
    "        return sum([calculate_fuel(val) for val in self.inp])"
   ]
  },
  {
   "cell_type": "code",
   "execution_count": 16,
   "id": "6cb40cd9",
   "metadata": {},
   "outputs": [
    {
     "data": {
      "text/plain": [
       "3412531"
      ]
     },
     "execution_count": 16,
     "metadata": {},
     "output_type": "execute_result"
    }
   ],
   "source": [
    "# part 1 with classes\n",
    "prob1 = prob('input.txt')\n",
    "prob1.read_inp()\n",
    "prob1.solve()"
   ]
  },
  {
   "cell_type": "code",
   "execution_count": 17,
   "id": "81ab00c6",
   "metadata": {},
   "outputs": [
    {
     "data": {
      "text/plain": [
       "<bound method prob.calculate_fuel of <__main__.prob object at 0x11742fbe0>>"
      ]
     },
     "execution_count": 17,
     "metadata": {},
     "output_type": "execute_result"
    }
   ],
   "source": [
    "prob1.calculate_fuel"
   ]
  },
  {
   "cell_type": "code",
   "execution_count": 18,
   "id": "21c33a9a",
   "metadata": {},
   "outputs": [
    {
     "data": {
      "text/plain": [
       "<__main__.prob at 0x11742f7c0>"
      ]
     },
     "execution_count": 18,
     "metadata": {},
     "output_type": "execute_result"
    }
   ],
   "source": [
    "prob2 = prob('input.txt')\n",
    "prob2"
   ]
  },
  {
   "cell_type": "code",
   "execution_count": null,
   "id": "f4beeaf7",
   "metadata": {},
   "outputs": [],
   "source": []
  },
  {
   "cell_type": "markdown",
   "id": "359b54ac",
   "metadata": {},
   "source": [
    "### Introducing Lists (and a yet another solution to Day 1, Part 1)..."
   ]
  },
  {
   "cell_type": "code",
   "execution_count": 19,
   "id": "9b228a69",
   "metadata": {},
   "outputs": [],
   "source": [
    "inp = [int(var) for var in open('input.txt').readlines()] # get input "
   ]
  },
  {
   "cell_type": "code",
   "execution_count": 20,
   "id": "9b614bec",
   "metadata": {
    "scrolled": true
   },
   "outputs": [
    {
     "data": {
      "text/plain": [
       "3412531"
      ]
     },
     "execution_count": 20,
     "metadata": {},
     "output_type": "execute_result"
    }
   ],
   "source": [
    "sum([int(val)//3-2 for val in inp]) # part 1 "
   ]
  },
  {
   "cell_type": "code",
   "execution_count": 21,
   "id": "53111619",
   "metadata": {},
   "outputs": [
    {
     "data": {
      "text/plain": [
       "100"
      ]
     },
     "execution_count": 21,
     "metadata": {},
     "output_type": "execute_result"
    }
   ],
   "source": [
    "len(inp)"
   ]
  },
  {
   "cell_type": "code",
   "execution_count": 23,
   "id": "c67d55d3",
   "metadata": {},
   "outputs": [
    {
     "data": {
      "text/plain": [
       "1"
      ]
     },
     "execution_count": 23,
     "metadata": {},
     "output_type": "execute_result"
    }
   ],
   "source": [
    "a = [1,2,3]\n",
    "a[-3]"
   ]
  },
  {
   "cell_type": "code",
   "execution_count": 24,
   "id": "7e306f74",
   "metadata": {},
   "outputs": [
    {
     "data": {
      "text/plain": [
       "3"
      ]
     },
     "execution_count": 24,
     "metadata": {},
     "output_type": "execute_result"
    }
   ],
   "source": [
    "len(a)"
   ]
  },
  {
   "cell_type": "code",
   "execution_count": 25,
   "id": "31c2bdf6",
   "metadata": {},
   "outputs": [
    {
     "data": {
      "text/plain": [
       "2"
      ]
     },
     "execution_count": 25,
     "metadata": {},
     "output_type": "execute_result"
    }
   ],
   "source": [
    "len(a)-1"
   ]
  },
  {
   "cell_type": "code",
   "execution_count": 26,
   "id": "f7f91a73",
   "metadata": {},
   "outputs": [
    {
     "data": {
      "text/plain": [
       "98599"
      ]
     },
     "execution_count": 26,
     "metadata": {},
     "output_type": "execute_result"
    }
   ],
   "source": [
    "inpt[len(inp)-1]"
   ]
  },
  {
   "cell_type": "code",
   "execution_count": 27,
   "id": "b61d580a",
   "metadata": {},
   "outputs": [
    {
     "data": {
      "text/plain": [
       "112089"
      ]
     },
     "execution_count": 27,
     "metadata": {},
     "output_type": "execute_result"
    }
   ],
   "source": [
    "inp[-2]"
   ]
  },
  {
   "cell_type": "code",
   "execution_count": 28,
   "id": "bc5c016a",
   "metadata": {},
   "outputs": [
    {
     "data": {
      "text/plain": [
       "[0, 1, 2, 3, 4]"
      ]
     },
     "execution_count": 28,
     "metadata": {},
     "output_type": "execute_result"
    }
   ],
   "source": [
    "list(range(5))"
   ]
  },
  {
   "cell_type": "code",
   "execution_count": 29,
   "id": "e6d8edf2",
   "metadata": {},
   "outputs": [
    {
     "data": {
      "text/plain": [
       "3412531"
      ]
     },
     "execution_count": 29,
     "metadata": {},
     "output_type": "execute_result"
    }
   ],
   "source": [
    "# part 1 with for loop\n",
    "cnt = 0\n",
    "for i in range(len(inpt)):\n",
    "    val = inpt[i]\n",
    "# for val in inp:\n",
    "    cnt += val//3 - 2\n",
    "cnt"
   ]
  },
  {
   "cell_type": "code",
   "execution_count": null,
   "id": "2d38dc6d",
   "metadata": {},
   "outputs": [],
   "source": []
  },
  {
   "cell_type": "markdown",
   "id": "232bfc51",
   "metadata": {},
   "source": [
    "## Day 1 Part 2"
   ]
  },
  {
   "cell_type": "code",
   "execution_count": 30,
   "id": "cc78a47e",
   "metadata": {},
   "outputs": [],
   "source": [
    "def calc1(mass):\n",
    "    return mass//3-2\n",
    "\n",
    "def calculate(inp):\n",
    "#     return sum([calc_per_item(var) for var in inp]) # use this for while solution\n",
    "    return sum([calc_per_item_r(var) for var in inp]) # use this for recursive solution\n",
    "\n",
    "\n",
    "def calc_per_item(mass):\n",
    "    fuel = 0\n",
    "    tmp = mass\n",
    "    while (newfuel:=calc1(tmp))>0:\n",
    "        fuel+=newfuel\n",
    "        tmp = newfuel\n",
    "    return fuel\n",
    "#     new_fuel = calc1(mass)\n",
    "        \n",
    "\n",
    "def calc_per_item_r(mass, total=0):\n",
    "    fuel = calc1(mass)\n",
    "    if fuel<=0:\n",
    "        return total\n",
    "    else:\n",
    "        return calc_per_item_r(fuel, total+fuel)"
   ]
  },
  {
   "cell_type": "code",
   "execution_count": null,
   "id": "2cb4f16a",
   "metadata": {},
   "outputs": [],
   "source": []
  },
  {
   "cell_type": "markdown",
   "id": "b60da28e",
   "metadata": {},
   "source": [
    "### The below implementation used to return a different solution. Remember why (hint: how many rounds will the ```while``` loop make)?"
   ]
  },
  {
   "cell_type": "code",
   "execution_count": 31,
   "id": "9417015b",
   "metadata": {},
   "outputs": [
    {
     "data": {
      "text/plain": [
       "966"
      ]
     },
     "execution_count": 31,
     "metadata": {},
     "output_type": "execute_result"
    }
   ],
   "source": [
    "def calc_per_item(mass):\n",
    "    new_mass = calc1(mass)\n",
    "    total = new_mass\n",
    "    \n",
    "    while new_mass > 0:\n",
    "        new_mass = calc1(new_mass)\n",
    "        \n",
    "        if new_mass < 0:\n",
    "            break\n",
    "\n",
    "        total += new_mass\n",
    "    return total\n",
    "\n",
    "calc_per_item(1969)"
   ]
  },
  {
   "cell_type": "code",
   "execution_count": 32,
   "id": "e8559fe5",
   "metadata": {},
   "outputs": [
    {
     "data": {
      "text/plain": [
       "5115927"
      ]
     },
     "execution_count": 32,
     "metadata": {},
     "output_type": "execute_result"
    }
   ],
   "source": [
    "calculate(inp)"
   ]
  },
  {
   "cell_type": "code",
   "execution_count": null,
   "id": "caefe10f",
   "metadata": {},
   "outputs": [],
   "source": []
  },
  {
   "cell_type": "markdown",
   "id": "4f0cb3e1",
   "metadata": {},
   "source": [
    "## Day 2 Part 1"
   ]
  },
  {
   "cell_type": "code",
   "execution_count": 33,
   "id": "b45bbc71",
   "metadata": {},
   "outputs": [
    {
     "name": "stdout",
     "output_type": "stream",
     "text": [
      "[1, 12, 2, 3, 1, 1, 2, 3, 1, 3, 4, 3, 1, 5, 0, 3, 2, 9, 1, 19, 1, 19, 5, 23, 1, 23, 6, 27, 2, 9, 27, 31, 1, 5, 31, 35, 1, 35, 10, 39, 1, 39, 10, 43, 2, 43, 9, 47, 1, 6, 47, 51, 2, 51, 6, 55, 1, 5, 55, 59, 2, 59, 10, 63, 1, 9, 63, 67, 1, 9, 67, 71, 2, 71, 6, 75, 1, 5, 75, 79, 1, 5, 79, 83, 1, 9, 83, 87, 2, 87, 10, 91, 2, 10, 91, 95, 1, 95, 9, 99, 2, 99, 9, 103, 2, 10, 103, 107, 2, 9, 107, 111, 1, 111, 5, 115, 1, 115, 2, 119, 1, 119, 6, 0, 99, 2, 0, 14, 0]\n"
     ]
    }
   ],
   "source": [
    "inp = [int(val) for val in open('input-day2.txt').read().split(',')]\n",
    "inp[1] = 12\n",
    "inp[2] = 2\n",
    "print(inp)"
   ]
  },
  {
   "cell_type": "code",
   "execution_count": 34,
   "id": "f1f63472",
   "metadata": {},
   "outputs": [],
   "source": [
    "pos = 0\n",
    "\n",
    "for _ in range(len(inp)):\n",
    "    if inp[pos]==1:\n",
    "        inp[inp[pos+3]] = inp[inp[pos+1]] + inp[inp[pos+2]]\n",
    "\n",
    "    elif inp[pos]==2:\n",
    "        inp[inp[pos+3]] = inp[inp[pos+1]] * inp[inp[pos+2]]\n",
    "\n",
    "    elif inp[pos]==99:\n",
    "        break\n",
    "\n",
    "    pos+=4"
   ]
  },
  {
   "cell_type": "code",
   "execution_count": 35,
   "id": "c08b5dd9",
   "metadata": {},
   "outputs": [
    {
     "name": "stdout",
     "output_type": "stream",
     "text": [
      "[3516593, 12, 2, 2, 1, 1, 2, 3, 1, 3, 4, 3, 1, 5, 0, 3, 2, 9, 1, 36, 1, 19, 5, 37, 1, 23, 6, 39, 2, 9, 27, 117, 1, 5, 31, 118, 1, 35, 10, 122, 1, 39, 10, 126, 2, 43, 9, 378, 1, 6, 47, 380, 2, 51, 6, 760, 1, 5, 55, 761, 2, 59, 10, 3044, 1, 9, 63, 3047, 1, 9, 67, 3050, 2, 71, 6, 6100, 1, 5, 75, 6101, 1, 5, 79, 6102, 1, 9, 83, 6105, 2, 87, 10, 24420, 2, 10, 91, 97680, 1, 95, 9, 97683, 2, 99, 9, 293049, 2, 10, 103, 1172196, 2, 9, 107, 3516588, 1, 111, 5, 3516589, 1, 115, 2, 3516591, 1, 119, 6, 0, 99, 2, 0, 14, 0]\n"
     ]
    }
   ],
   "source": [
    "print(inp)"
   ]
  },
  {
   "cell_type": "code",
   "execution_count": null,
   "id": "95c665ba",
   "metadata": {},
   "outputs": [],
   "source": []
  },
  {
   "cell_type": "markdown",
   "id": "4cde77d8",
   "metadata": {},
   "source": [
    "## Day 2 Part 2"
   ]
  },
  {
   "cell_type": "code",
   "execution_count": 36,
   "id": "2900457c",
   "metadata": {},
   "outputs": [
    {
     "name": "stdout",
     "output_type": "stream",
     "text": [
      "7749\n"
     ]
    }
   ],
   "source": [
    "for i in range(100):\n",
    "    for j in range(100):\n",
    "        inp = [int(val) for val in open('input-day2.txt').read().split(',')]\n",
    "        \n",
    "        inp[1] = i\n",
    "        inp[2] = j\n",
    "\n",
    "        pos = 0\n",
    "\n",
    "        while 1:\n",
    "            if inp[pos]==1:\n",
    "                inp[inp[pos+3]] = inp[inp[pos+1]] + inp[inp[pos+2]]\n",
    "\n",
    "            elif inp[pos]==2:\n",
    "                inp[inp[pos+3]] = inp[inp[pos+1]] * inp[inp[pos+2]]\n",
    "\n",
    "            elif inp[pos]==99:\n",
    "                break\n",
    "\n",
    "            pos+=4\n",
    "            \n",
    "        if inp[0] == 19690720:\n",
    "            print(i*100+j)\n",
    "            break"
   ]
  },
  {
   "cell_type": "code",
   "execution_count": null,
   "id": "b9c79d0f",
   "metadata": {},
   "outputs": [],
   "source": []
  },
  {
   "cell_type": "markdown",
   "id": "d93e7c66",
   "metadata": {},
   "source": [
    "## Day 4 Part 1"
   ]
  },
  {
   "cell_type": "markdown",
   "id": "dafcb8ec",
   "metadata": {},
   "source": [
    "### Introducing list manipulation..."
   ]
  },
  {
   "cell_type": "code",
   "execution_count": 37,
   "id": "81e1ae3c",
   "metadata": {},
   "outputs": [
    {
     "data": {
      "text/plain": [
       "('ndreas', 's', 'andrea', 'saerdna', 'andreas')"
      ]
     },
     "execution_count": 37,
     "metadata": {},
     "output_type": "execute_result"
    }
   ],
   "source": [
    "a = 'andreas'\n",
    "a[1:], a[-1:], a[:-1], a[::-1], a[::1]"
   ]
  },
  {
   "cell_type": "code",
   "execution_count": 38,
   "id": "820f1bff",
   "metadata": {},
   "outputs": [
    {
     "data": {
      "text/plain": [
       "'an'"
      ]
     },
     "execution_count": 38,
     "metadata": {},
     "output_type": "execute_result"
    }
   ],
   "source": [
    "i=0\n",
    "'andreas'[i:i+2]"
   ]
  },
  {
   "cell_type": "code",
   "execution_count": null,
   "id": "974006ec",
   "metadata": {},
   "outputs": [],
   "source": []
  },
  {
   "cell_type": "markdown",
   "id": "681409fe",
   "metadata": {},
   "source": [
    "### Introducing ```zip()```"
   ]
  },
  {
   "cell_type": "code",
   "execution_count": 39,
   "id": "b2d3280c",
   "metadata": {},
   "outputs": [
    {
     "data": {
      "text/plain": [
       "[('a', 'n', '1', '1'), ('n', 'd', '2', '2'), ('d', 'r', '3', '3')]"
      ]
     },
     "execution_count": 39,
     "metadata": {},
     "output_type": "execute_result"
    }
   ],
   "source": [
    "list(zip('andreas', 'andreas'[1:], '123456', '123'))"
   ]
  },
  {
   "cell_type": "code",
   "execution_count": 40,
   "id": "f132c97a",
   "metadata": {},
   "outputs": [
    {
     "data": {
      "text/plain": [
       "array(['1', '2', '3', '4', '1', '2', '3', '4'], dtype='<U1')"
      ]
     },
     "execution_count": 40,
     "metadata": {},
     "output_type": "execute_result"
    }
   ],
   "source": [
    "np.tile(list('1234'), reps=2)"
   ]
  },
  {
   "cell_type": "code",
   "execution_count": 41,
   "id": "7c0dfb99",
   "metadata": {},
   "outputs": [
    {
     "data": {
      "text/plain": [
       "['a_n_1', 'n_d_2', 'd_r_3', 'r_e_4', 'e_a_1', 'a_s_2']"
      ]
     },
     "execution_count": 41,
     "metadata": {},
     "output_type": "execute_result"
    }
   ],
   "source": [
    "import itertools\n",
    "[x+'_'+y+'_'+z for x,y,z in zip('andreas', 'andreas'[1:], np.tile(list('1234'), reps=2))]"
   ]
  },
  {
   "cell_type": "code",
   "execution_count": null,
   "id": "24305eab",
   "metadata": {},
   "outputs": [],
   "source": []
  },
  {
   "cell_type": "code",
   "execution_count": 42,
   "id": "347c3dc5",
   "metadata": {},
   "outputs": [
    {
     "name": "stdout",
     "output_type": "stream",
     "text": [
      "1019\n"
     ]
    }
   ],
   "source": [
    "# 1. It is a six-digit number.\n",
    "# 2. The value is within the range given in your puzzle input.\n",
    "# 3. Two adjacent digits are the same (like 22 in 122345).\n",
    "# 4. Going from left to right, the digits never decrease; \n",
    "#    they only ever increase or stay the same (like 111123 or 135679).\n",
    "def digit_is_adj(code):\n",
    "    for digit_i, digit_j in zip(code, code[1:]):\n",
    "        if digit_i == digit_j:\n",
    "            return True\n",
    "    return False\n",
    "    \n",
    "def digit_is_incr(code):\n",
    "    for digit_i, digit_j in zip(code, code[1:]):\n",
    "        if not digit_i <= digit_j:\n",
    "            return False\n",
    "    return True\n",
    "    \n",
    "# digit_is_incr: Second approach\n",
    "# def digit_is_incr(code):\n",
    "#     flags = []\n",
    "#     for digit_i, digit_j in zip(code, code[1:]):\n",
    "#         if not digit_i <= digit_j:\n",
    "#             flags.append(False)\n",
    "#         else:\n",
    "#             flags.append(True)\n",
    "#     return np.all(flags)\n",
    "\n",
    "# digit_is_incr: Third approach\n",
    "# def digit_is_incr(code):\n",
    "#     flag = True\n",
    "#     for digit_i, digit_j in zip(code, code[1:]):\n",
    "#         if not digit_i <= digit_j:\n",
    "#             flag = False\n",
    "#     return flag\n",
    "\n",
    "\n",
    "\n",
    "# I wonder, which approach works better (i.e. faster)? \n",
    "cnt = 0\n",
    "for i in range(248345,746315+1):\n",
    "    if digit_is_adj(str(i)) and digit_is_incr(str(i)):\n",
    "        cnt += 1\n",
    "\n",
    "print(cnt)"
   ]
  },
  {
   "cell_type": "code",
   "execution_count": null,
   "id": "44b0049c",
   "metadata": {},
   "outputs": [],
   "source": []
  },
  {
   "cell_type": "markdown",
   "id": "e26722ac",
   "metadata": {},
   "source": [
    "### An alternative solution (what it does different, compared to the previous one?)"
   ]
  },
  {
   "cell_type": "code",
   "execution_count": 44,
   "id": "8ea10b0c",
   "metadata": {},
   "outputs": [],
   "source": [
    "def adj_is_same(code):\n",
    "    for (digit_i, digit_j) in list(zip(code, code[1:])):\n",
    "        if  digit_i == digit_j:\n",
    "            return True\n",
    "    return False\n",
    "\n",
    "\n",
    "def digit_incr(code):\n",
    "    for (digit_i, digit_j) in list(zip(code, code[1:])):\n",
    "        if not digit_i <= digit_j:\n",
    "            return False\n",
    "    return True\n",
    "    \n",
    "\n",
    "# def digit_incr(code):\n",
    "#     for i in range(len(code)-1):\n",
    "#         if not code[i] <= code[i+1]:\n",
    "#             return False\n",
    "#     return True"
   ]
  },
  {
   "cell_type": "code",
   "execution_count": 45,
   "id": "47273b69",
   "metadata": {},
   "outputs": [],
   "source": [
    "cands = []\n",
    "\n",
    "for i in range(248345,746315+1):\n",
    "    code = str(i)\n",
    "    \n",
    "    flag_same = adj_is_same(code)\n",
    "    flag_incr = digit_incr(code)\n",
    "\n",
    "    if flag_incr and flag_same:\n",
    "        cands.append(code)"
   ]
  },
  {
   "cell_type": "code",
   "execution_count": null,
   "id": "f2323006",
   "metadata": {},
   "outputs": [
    {
     "name": "stdout",
     "output_type": "stream",
     "text": [
      "1019\n"
     ]
    }
   ],
   "source": [
    "print(len(cands))"
   ]
  },
  {
   "cell_type": "code",
   "execution_count": null,
   "id": "2d051a66",
   "metadata": {},
   "outputs": [],
   "source": []
  },
  {
   "cell_type": "markdown",
   "id": "a2d9129a",
   "metadata": {},
   "source": [
    "### Introducing ```count()``` method"
   ]
  },
  {
   "cell_type": "code",
   "execution_count": 46,
   "id": "3c05775e",
   "metadata": {},
   "outputs": [
    {
     "data": {
      "text/plain": [
       "3"
      ]
     },
     "execution_count": 46,
     "metadata": {},
     "output_type": "execute_result"
    }
   ],
   "source": [
    "'228245'.count('2')"
   ]
  },
  {
   "cell_type": "code",
   "execution_count": null,
   "id": "fdc24483",
   "metadata": {},
   "outputs": [],
   "source": []
  },
  {
   "cell_type": "markdown",
   "id": "71160546",
   "metadata": {},
   "source": [
    "## Day 4 Part 2"
   ]
  },
  {
   "cell_type": "markdown",
   "id": "110a319e",
   "metadata": {},
   "source": [
    "### Introducing ```Sets```"
   ]
  },
  {
   "cell_type": "code",
   "execution_count": 47,
   "id": "2f25f5e8",
   "metadata": {},
   "outputs": [
    {
     "data": {
      "text/plain": [
       "{1, 2, 3, 4, 5, 6, 7, 8, 9}"
      ]
     },
     "execution_count": 47,
     "metadata": {},
     "output_type": "execute_result"
    }
   ],
   "source": [
    "a = [1,1,1,1,2,3,4,5,3,6,4,5,7,8,9]\n",
    "set(a)"
   ]
  },
  {
   "cell_type": "code",
   "execution_count": null,
   "id": "6c7ad127",
   "metadata": {},
   "outputs": [],
   "source": []
  },
  {
   "cell_type": "code",
   "execution_count": 48,
   "id": "347c3dc5",
   "metadata": {},
   "outputs": [
    {
     "name": "stdout",
     "output_type": "stream",
     "text": [
      "660\n"
     ]
    }
   ],
   "source": [
    "# 1. It is a six-digit number.\n",
    "# 2. The value is within the range given in your puzzle input.\n",
    "# 3. Two adjacent digits are the same (like 22 in 122345).\n",
    "# 4. Going from left to right, the digits never decrease; \n",
    "#    they only ever increase or stay the same (like 111123 or 135679).\n",
    "# 5. the two adjacent matching digits are not part of a larger group \n",
    "#    of matching digits.\n",
    "\n",
    "def digit_is_adj(code):\n",
    "    for digit_i, digit_j in zip(code, code[1:]):\n",
    "        if (digit_i == digit_j) and code.count(digit_i) == 2:\n",
    "            return True\n",
    "    return False\n",
    "    \n",
    "def digit_is_incr(code):\n",
    "    for digit_i, digit_j in zip(code, code[1:]):\n",
    "        if not digit_i <= digit_j:\n",
    "            return False\n",
    "    return True\n",
    "    \n",
    "\n",
    "cands = []\n",
    "for i in range(248345,746315+1):\n",
    "    if digit_is_adj(str(i)) and digit_is_incr(str(i)):\n",
    "        cands.append(i)\n",
    "\n",
    "print(len(cands))"
   ]
  },
  {
   "cell_type": "code",
   "execution_count": null,
   "id": "29944ec6",
   "metadata": {},
   "outputs": [],
   "source": []
  },
  {
   "cell_type": "markdown",
   "id": "a4f3f9b3",
   "metadata": {},
   "source": [
    "### An alternative solution"
   ]
  },
  {
   "cell_type": "code",
   "execution_count": 49,
   "id": "d14ba95a",
   "metadata": {},
   "outputs": [],
   "source": [
    "def adj_part_of_larger_group(code):\n",
    "    for digit in set(str(code)):\n",
    "        if code.count(digit) == 2:\n",
    "            return False\n",
    "    return True"
   ]
  },
  {
   "cell_type": "code",
   "execution_count": 50,
   "id": "97cdcfc4",
   "metadata": {},
   "outputs": [],
   "source": [
    "cands = []\n",
    "\n",
    "for i in range(248345,746315+1):\n",
    "    code = str(i)\n",
    "    \n",
    "    flag_same = adj_is_same(code)\n",
    "    flag_adj = adj_part_of_larger_group(code)\n",
    "    flag_incr = digit_incr(code)\n",
    "\n",
    "    if flag_incr and not flag_adj and flag_same:\n",
    "        cands.append(code)"
   ]
  },
  {
   "cell_type": "code",
   "execution_count": 51,
   "id": "1bf392b2",
   "metadata": {},
   "outputs": [
    {
     "data": {
      "text/plain": [
       "660"
      ]
     },
     "execution_count": 51,
     "metadata": {},
     "output_type": "execute_result"
    }
   ],
   "source": [
    "len(cands)"
   ]
  },
  {
   "cell_type": "code",
   "execution_count": null,
   "id": "3678cc46",
   "metadata": {},
   "outputs": [],
   "source": []
  },
  {
   "cell_type": "markdown",
   "id": "d60fa266",
   "metadata": {},
   "source": [
    "### Benchmarks' time (why the first method is faster than the second?)\n",
    "##### What else can we do to further improve the result? Hint: use NumPy"
   ]
  },
  {
   "cell_type": "code",
   "execution_count": 52,
   "id": "760d346c",
   "metadata": {},
   "outputs": [
    {
     "name": "stdout",
     "output_type": "stream",
     "text": [
      "449 ns ± 3.88 ns per loop (mean ± std. dev. of 7 runs, 1000000 loops each)\n"
     ]
    }
   ],
   "source": [
    "%%timeit\n",
    "def digit_incr(code):\n",
    "    for i in range(len(code)-1):\n",
    "        if not code[i] <= code[i+1]:\n",
    "            return False\n",
    "    return True\n",
    "\n",
    "digit_incr('144556')"
   ]
  },
  {
   "cell_type": "code",
   "execution_count": 53,
   "id": "c139d4a0",
   "metadata": {},
   "outputs": [
    {
     "name": "stdout",
     "output_type": "stream",
     "text": [
      "491 ns ± 7.27 ns per loop (mean ± std. dev. of 7 runs, 1000000 loops each)\n"
     ]
    }
   ],
   "source": [
    "%%timeit\n",
    "def digit_incr(code):\n",
    "    for (digit_i, digit_j) in list(zip(code, code[1:])):\n",
    "        if not digit_i <= digit_j:\n",
    "            return False\n",
    "    return True \n",
    "\n",
    "digit_incr('144556')"
   ]
  },
  {
   "cell_type": "code",
   "execution_count": null,
   "id": "b80bff23",
   "metadata": {},
   "outputs": [],
   "source": []
  },
  {
   "cell_type": "markdown",
   "id": "0ee37e51",
   "metadata": {},
   "source": [
    "## Day 5 Part 1"
   ]
  },
  {
   "cell_type": "markdown",
   "id": "9e03992b",
   "metadata": {},
   "source": [
    "### Introducing ```zfill()``` method..."
   ]
  },
  {
   "cell_type": "code",
   "execution_count": 54,
   "id": "7972c84d",
   "metadata": {},
   "outputs": [
    {
     "data": {
      "text/plain": [
       "'00005'"
      ]
     },
     "execution_count": 54,
     "metadata": {},
     "output_type": "execute_result"
    }
   ],
   "source": [
    "'5'.zfill(5)"
   ]
  },
  {
   "cell_type": "code",
   "execution_count": 55,
   "id": "93baecde",
   "metadata": {},
   "outputs": [
    {
     "data": {
      "text/plain": [
       "True"
      ]
     },
     "execution_count": 55,
     "metadata": {},
     "output_type": "execute_result"
    }
   ],
   "source": [
    "'5'.zfill(2) < '15'"
   ]
  },
  {
   "cell_type": "code",
   "execution_count": null,
   "id": "f89c00af",
   "metadata": {},
   "outputs": [],
   "source": []
  },
  {
   "cell_type": "code",
   "execution_count": 56,
   "id": "535aa8de",
   "metadata": {},
   "outputs": [
    {
     "name": "stdout",
     "output_type": "stream",
     "text": [
      "0\n",
      "0\n",
      "0\n",
      "0\n",
      "0\n",
      "0\n",
      "0\n",
      "0\n",
      "0\n",
      "7259358\n"
     ]
    }
   ],
   "source": [
    "inp = [int(val) for val in open('input-day5.txt').read().split(',')]\n",
    "pos = 0\n",
    "\n",
    "while 1:\n",
    "    opcode = int(str(inp[pos]).zfill(4)[-2:])\n",
    "    \n",
    "    if opcode==1:\n",
    "        mb,ma = str(inp[pos]).zfill(4)[:2] \n",
    "        noun = inp[inp[pos+1]] if ma =='0' else inp[pos+1] \n",
    "        verb = inp[inp[pos+2]] if mb =='0' else inp[pos+2] \n",
    "        \n",
    "        inp[inp[pos+3]] = noun+verb\n",
    "        pos+=4  \n",
    "        \n",
    "    elif opcode==2:\n",
    "        mb,ma = str(inp[pos]).zfill(4)[:2]  \n",
    "        noun = inp[inp[pos+1]] if ma =='0' else inp[pos+1] \n",
    "        verb = inp[inp[pos+2]] if mb =='0' else inp[pos+2] \n",
    "        \n",
    "        inp[inp[pos+3]] = noun*verb\n",
    "        pos+=4        \n",
    "        \n",
    "    elif opcode==3:\n",
    "        inp[inp[pos+1]] = int(input())\n",
    "        pos+=2   \n",
    "\n",
    "    elif opcode==4:\n",
    "        _,ma = str(inp[pos]).zfill(4)[:2]  \n",
    "        noun = inp[inp[pos+1]] if ma =='0' else inp[pos+1] \n",
    "        print(noun)\n",
    "        pos+=2  \n",
    "        \n",
    "    elif opcode==99:\n",
    "        break\n",
    "\n"
   ]
  },
  {
   "cell_type": "code",
   "execution_count": null,
   "id": "dcd64e48",
   "metadata": {},
   "outputs": [],
   "source": []
  },
  {
   "cell_type": "markdown",
   "id": "739c76eb",
   "metadata": {},
   "source": [
    "## Day 5 Part 1 with classes"
   ]
  },
  {
   "cell_type": "code",
   "execution_count": 57,
   "id": "d32cc0e7",
   "metadata": {},
   "outputs": [],
   "source": [
    "class intcode:\n",
    "    \n",
    "    def __init__(self, inp_name):\n",
    "        self.base = 0\n",
    "        self.code = [int(val) for val in open(inp_name).read().split(',')]\n",
    "        # string is imut, list is mut\n",
    "        \n",
    "    def run(self):\n",
    "        while 1:\n",
    "            opcode = self.code[self.base]%100\n",
    "            \n",
    "            if opcode==1:\n",
    "                mc,mb,ma = str(self.code[self.base]).zfill(5)[:-2]\n",
    "                verb = self.code[self.code[self.base+1]] if ma=='0' else self.code[self.base+1]\n",
    "                noun = self.code[self.code[self.base+2]] if mb=='0' else self.code[self.base+2]\n",
    "                \n",
    "                self.code[self.code[self.base+3]] = verb+noun\n",
    "                self.base+=4\n",
    "                \n",
    "            elif opcode==2:\n",
    "                mc,mb,ma = str(self.code[self.base]).zfill(5)[:-2]\n",
    "                \n",
    "                verb = self.code[self.code[self.base+1]] if ma=='0' else self.code[self.base+1]\n",
    "                noun = self.code[self.code[self.base+2]] if mb=='0' else self.code[self.base+2]\n",
    "                \n",
    "                self.code[self.code[self.base+3]] = verb*noun\n",
    "                self.base+=4\n",
    "                \n",
    "            elif opcode==3:\n",
    "                self.code[self.code[self.base+1]] = int(input())\n",
    "                \n",
    "                self.base+=2\n",
    "            \n",
    "            elif opcode==4:\n",
    "                ma = str(self.code[self.base]).zfill(3)[:-2]\n",
    "                print(self.code[self.code[self.base+1]]) if ma=='0' else print(self.code[self.base+1])\n",
    "                \n",
    "                self.base+=2\n",
    "                \n",
    "            elif opcode==99:\n",
    "                break\n",
    "            "
   ]
  },
  {
   "cell_type": "code",
   "execution_count": 58,
   "id": "5aed2822",
   "metadata": {},
   "outputs": [
    {
     "name": "stdout",
     "output_type": "stream",
     "text": [
      "0\n",
      "0\n",
      "0\n",
      "0\n",
      "0\n",
      "0\n",
      "0\n",
      "0\n",
      "0\n",
      "7259358\n"
     ]
    }
   ],
   "source": [
    "intc = intcode('input-day5.txt')\n",
    "intc.run()"
   ]
  },
  {
   "cell_type": "code",
   "execution_count": null,
   "id": "0f7f5bb1",
   "metadata": {},
   "outputs": [],
   "source": []
  },
  {
   "cell_type": "markdown",
   "id": "27f17337",
   "metadata": {},
   "source": [
    "## Where is: ```Day 5 Part 2```?\n",
    "### The solution is left as an exercise for the reader..."
   ]
  },
  {
   "cell_type": "code",
   "execution_count": null,
   "id": "ff1015dd",
   "metadata": {},
   "outputs": [],
   "source": []
  }
 ],
 "metadata": {
  "kernelspec": {
   "display_name": "Python 3.9.9 ('vesai')",
   "language": "python",
   "name": "python3"
  },
  "language_info": {
   "codemirror_mode": {
    "name": "ipython",
    "version": 3
   },
   "file_extension": ".py",
   "mimetype": "text/x-python",
   "name": "python",
   "nbconvert_exporter": "python",
   "pygments_lexer": "ipython3",
   "version": "3.9.9"
  },
  "vscode": {
   "interpreter": {
    "hash": "25f427020f07e0d8930d0f12849296eee54bb6d00caab5bb9077fa15f237da79"
   }
  }
 },
 "nbformat": 4,
 "nbformat_minor": 5
}
